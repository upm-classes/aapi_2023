{
 "cells": [
  {
   "cell_type": "markdown",
   "id": "5083798d",
   "metadata": {},
   "source": [
    "[![Open In Colab](https://colab.research.google.com/assets/colab-badge.svg)](https://colab.research.google.com/github/upm-classes/aapi_2023/blob/main/practica1/practica_1.ipynb)"
   ]
  },
  {
   "cell_type": "markdown",
   "id": "7cbe57e1-5b11-4997-a507-474f6f2e9e2e",
   "metadata": {
    "nbgrader": {
     "grade": false,
     "grade_id": "cell-a2edf29fcf1f08d7",
     "locked": true,
     "schema_version": 3,
     "solution": false,
     "task": false
    }
   },
   "source": [
    "## Práctica 1: Procesamiento de Imágenes en Python\n",
    "\n",
    "**Objetivo:** Realizar diversas operaciones de procesamiento de imágenes utilizando Python y comparar los resultados obtenidos."
   ]
  },
  {
   "cell_type": "code",
   "execution_count": null,
   "id": "e35905c8-37bf-4158-8bd2-a6e24d2d0fe8",
   "metadata": {
    "nbgrader": {
     "grade": false,
     "grade_id": "cell-dcac677dd0fe5374",
     "locked": true,
     "schema_version": 3,
     "solution": false,
     "task": false
    }
   },
   "outputs": [],
   "source": [
    "# Librerias a importar\n",
    "\n",
    "import cv2\n",
    "import numpy as np\n",
    "import matplotlib.pyplot as plt\n",
    "from typing import List, Tuple"
   ]
  },
  {
   "cell_type": "markdown",
   "id": "a6cec757-97d6-4566-a3a3-36c2a0a9b327",
   "metadata": {
    "nbgrader": {
     "grade": false,
     "grade_id": "cell-177954d69f6837b0",
     "locked": true,
     "schema_version": 3,
     "solution": false,
     "task": false
    }
   },
   "source": [
    "**Tarea 1:** Abrir imágenes en RGB y mostrarlas"
   ]
  },
  {
   "cell_type": "code",
   "execution_count": null,
   "id": "d05b9dbd-01e1-4096-bb54-10346195aee0",
   "metadata": {
    "nbgrader": {
     "grade": true,
     "grade_id": "cell-00523167aa9d5133",
     "locked": false,
     "points": 1,
     "schema_version": 3,
     "solution": true,
     "task": false
    }
   },
   "outputs": [],
   "source": [
    "filename_1 = # TODO: establece el nombre de las imágenes de acuerdo a las indicaciones dadas\n",
    "filename_2 = './images/image_base.jpg'"
   ]
  },
  {
   "cell_type": "code",
   "execution_count": null,
   "id": "5961b21a-51f2-48c5-b856-7e77929ef27f",
   "metadata": {
    "nbgrader": {
     "grade": false,
     "grade_id": "cell-59f1a09080c4fc1b",
     "locked": true,
     "schema_version": 3,
     "solution": false,
     "task": false
    }
   },
   "outputs": [],
   "source": [
    "# Cargar imágenes\n",
    "image_1 = cv2.imread(filename_1, cv2.IMREAD_COLOR)\n",
    "image_2 = cv2.imread(filename_2, cv2.IMREAD_COLOR)\n",
    "\n",
    "plt.figure(figsize=(10, 5))\n",
    "plt.subplot(121), plt.imshow(image_1), plt.title('Imagen 1 (BGR)')\n",
    "plt.axis('off')\n",
    "plt.subplot(122), plt.imshow(image_2), plt.title('Imagen 2 (BGR)')\n",
    "plt.axis('off')\n",
    "plt.show()\n",
    "\n",
    "# Images are opened in a BGR format, we need to change \n",
    "# it to RGB\n",
    "\n",
    "image_1 = cv2.cvtColor(image_1, cv2.COLOR_BGR2RGB)\n",
    "image_2 = cv2.cvtColor(image_2, cv2.COLOR_BGR2RGB)\n",
    "\n",
    "# Mostrar las imágenes\n",
    "plt.figure(figsize=(10, 5))\n",
    "plt.subplot(121), plt.imshow(image_1), plt.title('Imagen 1 (RGB)')\n",
    "plt.axis('off')\n",
    "plt.subplot(122), plt.imshow(image_2), plt.title('Imagen 2 (RGB)')\n",
    "plt.axis('off')\n",
    "plt.show()"
   ]
  },
  {
   "cell_type": "markdown",
   "id": "75912f7d-f996-4648-b9ad-48245c8d6127",
   "metadata": {
    "nbgrader": {
     "grade": false,
     "grade_id": "cell-929c37161512f2f6",
     "locked": true,
     "schema_version": 3,
     "solution": false,
     "task": false
    }
   },
   "source": [
    "Completa la siguiente funcion para que dada una imagen RGB (np.array) la separe en sus 3 componentes."
   ]
  },
  {
   "cell_type": "code",
   "execution_count": null,
   "id": "b20ed486-9b5d-4564-918d-e302129892d2",
   "metadata": {
    "nbgrader": {
     "grade": false,
     "grade_id": "cell-62ba4d9d8b27beb0",
     "locked": false,
     "schema_version": 3,
     "solution": true,
     "task": false
    }
   },
   "outputs": [],
   "source": [
    "def split_rgb(image:np.array) -> Tuple[np.array, np.array, np.array]:\n",
    "    # YOUR CODE HERE\n",
    "    raise NotImplementedError()"
   ]
  },
  {
   "cell_type": "code",
   "execution_count": null,
   "id": "73f459eb-3efb-441d-95a3-e611d8d38732",
   "metadata": {},
   "outputs": [],
   "source": [
    "r, g, b = split_rgb(image_1)"
   ]
  },
  {
   "cell_type": "code",
   "execution_count": null,
   "id": "3e675882-3c1f-4b6e-ac96-083fa1e74d9c",
   "metadata": {},
   "outputs": [],
   "source": [
    "plt.figure(figsize=(10, 5))\n",
    "plt.subplot(131), plt.imshow(r, cmap='gray'), plt.title('Canal R')\n",
    "plt.axis('off')\n",
    "plt.subplot(132), plt.imshow(g, cmap='gray'), plt.title('Canal G')\n",
    "plt.axis('off')\n",
    "plt.subplot(133), plt.imshow(b, cmap='gray'), plt.title('Canal B')\n",
    "plt.axis('off')\n",
    "plt.show()"
   ]
  },
  {
   "cell_type": "markdown",
   "id": "aa39744c-1e2c-44b8-b673-ef72e6b5deab",
   "metadata": {},
   "source": [
    "**Tarea 2:** Cálculo de valores estadísticos."
   ]
  },
  {
   "cell_type": "code",
   "execution_count": null,
   "id": "9769532d-0d72-4938-953e-3d13a89ddee8",
   "metadata": {},
   "outputs": [],
   "source": [
    "def image_statistics(image: np.array) -> Tuple[float, float, float]:\n",
    "    \"\"\"\n",
    "    Dada una imagen en escala de grises de 8 bits, debe devolver \n",
    "    una tupla con los valores máximos, mínimos y promedio de los \n",
    "    píxeles.\n",
    "    \"\"\"\n",
    "    # YOUR CODE HERE\n",
    "    raise NotImplementedError()\n",
    "    "
   ]
  },
  {
   "cell_type": "code",
   "execution_count": null,
   "id": "c91ade2a-63a2-48fe-96c4-814cf5ba6f0b",
   "metadata": {},
   "outputs": [],
   "source": [
    "max, min, avg = image_statistics(r)\n",
    "\n",
    "print(f'maximum value: {max}')\n",
    "print(f'minimum value: {min}')\n",
    "print(f'average value: {avg}')"
   ]
  },
  {
   "cell_type": "markdown",
   "id": "dc384c45-9fb3-453f-a2e9-e6d5d169a38d",
   "metadata": {},
   "source": [
    "**Tarea 3:** Realizar operaciones aritméticas y lógicas.\n",
    "\n",
    "Se debe tener cuidado con los tipos de datos al trabajar con las imágenes. Por tanto, se deben realizar operaciones de cambio de tipos (*casting*) y mantener los valores dentro del rango permitido (*clipping*)."
   ]
  },
  {
   "cell_type": "code",
   "execution_count": null,
   "id": "3724bc0c-a49d-42dc-8b7c-5c3b2df53a68",
   "metadata": {},
   "outputs": [],
   "source": [
    "a = np.array([100], dtype=np.uint8)\n",
    "b = np.array([255], dtype=np.uint8)\n",
    "\n",
    "print(f'Suma: {a + b}')\n",
    "print(f'Resta: {a - b}')\n",
    "\n",
    "a = np.array([100], dtype=np.float32)\n",
    "b = np.array([255], dtype=np.float32)\n",
    "\n",
    "print(f'Suma: {a + b}')\n",
    "print(f'Resta: {a - b}')"
   ]
  },
  {
   "cell_type": "code",
   "execution_count": null,
   "id": "4b5745db-688f-44eb-aae4-23eaba5b3064",
   "metadata": {},
   "outputs": [],
   "source": [
    "def add_images(a:np.array, b:np.array) -> np.array:\n",
    "    \"\"\"\n",
    "    Función que suma dos canales (a+b) y devuelve el \n",
    "    resultado en un np.array de tipo np.uint8.\n",
    "    \"\"\"\n",
    "    # YOUR CODE HERE\n",
    "    raise NotImplementedError()"
   ]
  },
  {
   "cell_type": "code",
   "execution_count": null,
   "id": "4a406820-c2a0-46bc-80b4-eab90745a956",
   "metadata": {},
   "outputs": [],
   "source": [
    "def substract_images(a:np.array, b:np.array) -> np.array:\n",
    "    \"\"\"\n",
    "    Función que resta dos canales (a-b) y devuelve el \n",
    "    resultado en un np.array de tipo np.uint8.\n",
    "    \"\"\"\n",
    "    # YOUR CODE HERE\n",
    "    raise NotImplementedError()"
   ]
  },
  {
   "cell_type": "code",
   "execution_count": null,
   "id": "0ee6d396-6b14-4abc-ac23-628097c9dcbd",
   "metadata": {},
   "outputs": [],
   "source": [
    "def logic_and_images(a:np.array, b:np.array) -> np.array:\n",
    "    \"\"\"\n",
    "    Función que realiza la operación lógica AND entre dos\n",
    "    canales (a AND b) y devuelve el \n",
    "    resultado en un np.array de tipo np.uint8. Los canales\n",
    "    deben binarizarse.\n",
    "    \"\"\"\n",
    "    # YOUR CODE HERE\n",
    "    raise NotImplementedError()"
   ]
  },
  {
   "cell_type": "code",
   "execution_count": null,
   "id": "8660d68b-f379-4e7d-9302-39abb36ed53a",
   "metadata": {},
   "outputs": [],
   "source": [
    "def logic_or_images(a:np.array, b:np.array) -> np.array:\n",
    "    \"\"\"\n",
    "    Función que realiza la operación lógica OR entre dos\n",
    "    canales (a OR b) y devuelve el \n",
    "    resultado en un np.array de tipo np.uint8. Los canales\n",
    "    deben binarizarse.\n",
    "    \"\"\"\n",
    "    # YOUR CODE HERE\n",
    "    raise NotImplementedError()"
   ]
  },
  {
   "cell_type": "code",
   "execution_count": null,
   "id": "f95151d1-816d-496a-b92e-83089e3e5fe2",
   "metadata": {},
   "outputs": [],
   "source": [
    "r_1, g_1, b_1 = split_rgb(image_1)\n",
    "r_2, g_2, b_2 = split_rgb(image_2)\n",
    "\n",
    "addition = add_images(r_1, r_2)\n",
    "substraction = substract_images(r_1, r_2)\n",
    "logic_and = logic_and_images(r_1, r_2)\n",
    "logic_or = logic_or_images(r_1, r_2)"
   ]
  },
  {
   "cell_type": "code",
   "execution_count": null,
   "id": "0da0b74e-2853-4a17-8d80-08053bdc93d1",
   "metadata": {},
   "outputs": [],
   "source": [
    "plt.figure(figsize=(15, 10))\n",
    "plt.subplot(221), plt.imshow(addition, cmap='gray', vmax=255, vmin=0), plt.title('Suma')\n",
    "plt.axis('off')\n",
    "plt.subplot(222), plt.imshow(substraction, cmap='gray', vmax=255, vmin=0), plt.title('Resta')\n",
    "plt.axis('off')\n",
    "plt.subplot(223), plt.imshow(logic_or, cmap='gray', vmax=1, vmin=0), plt.title('Operación OR')\n",
    "plt.axis('off')\n",
    "plt.subplot(224), plt.imshow(logic_and, cmap='gray', vmax=1, vmin=0), plt.title('Operación AND')\n",
    "plt.axis('off')\n",
    "plt.show()"
   ]
  },
  {
   "cell_type": "markdown",
   "id": "a47e68db-165f-488b-8427-41ddb032b777",
   "metadata": {},
   "source": [
    "**Tarea 4:** Cálculo del histograma"
   ]
  },
  {
   "cell_type": "code",
   "execution_count": null,
   "id": "5e16bd01-1e48-4c9f-b5ba-a8250cce56b1",
   "metadata": {},
   "outputs": [],
   "source": [
    "def calculate_histogram(image: np.array, bins: int = 255) -> Tuple[np.array, np.array]:\n",
    "    \"\"\"\n",
    "    Dada una imagen en escala de grises de 8 bits, \n",
    "    esta función debe devolver dos matrices numpy: \n",
    "    la primera será una matriz numpy con el histograma y \n",
    "    la segunda contendrá los bordes de los bins de acuerdo \n",
    "    con el número de bins seleccionados. \n",
    "    Deberías utilizar una función de numpy para calcular el \n",
    "    histograma.\n",
    "    \"\"\"\n",
    "    # YOUR CODE HERE\n",
    "    raise NotImplementedError()"
   ]
  },
  {
   "cell_type": "code",
   "execution_count": null,
   "id": "bd379d6d-991e-4ee5-8ee3-b8d61152c83d",
   "metadata": {},
   "outputs": [],
   "source": [
    "r_hist, r_edges = calculate_histogram(r_1)\n",
    "g_hist, g_edges = calculate_histogram(g_1)\n",
    "b_hist, b_edges = calculate_histogram(b_1)\n",
    "addition_hist, addition_edges = calculate_histogram(addition)\n",
    "substraction_hist, substraction_edges = calculate_histogram(substraction)\n",
    "logic_or_hist, logic_or_edges = calculate_histogram(logic_or)\n",
    "logic_and_hist, logic_and_edges = calculate_histogram(logic_and)\n",
    "\n",
    "plt.figure(figsize=(18, 15))\n",
    "plt.subplot(331), plt.bar(r_edges[1:], r_hist), plt.title('Rojo')\n",
    "plt.xlabel('Nivel digital')\n",
    "plt.ylabel('Frecuencia')\n",
    "plt.subplot(332), plt.bar(g_edges[1:], g_hist), plt.title('Verde')\n",
    "plt.xlabel('Nivel digital')\n",
    "plt.ylabel('Frecuencia')\n",
    "plt.subplot(333), plt.bar(b_edges[1:], b_hist), plt.title('Azul')\n",
    "plt.xlabel('Nivel digital')\n",
    "plt.ylabel('Frecuencia')\n",
    "plt.subplot(334), plt.bar(addition_edges[1:], addition_hist), plt.title('Suma')\n",
    "plt.xlabel('Nivel digital')\n",
    "plt.ylabel('Frecuencia')\n",
    "plt.subplot(335), plt.bar(substraction_edges[1:], substraction_hist), plt.title('Resta')\n",
    "plt.xlabel('Nivel digital')\n",
    "plt.ylabel('Frecuencia')\n",
    "plt.subplot(337), plt.bar(logic_or_edges[1:], logic_or_hist), plt.title('OR')\n",
    "plt.xlabel('Nivel digital')\n",
    "plt.ylabel('Frecuencia')\n",
    "plt.subplot(338), plt.bar(logic_and_edges[1:], logic_and_hist), plt.title('AND')\n",
    "plt.xlabel('Nivel digital')\n",
    "plt.ylabel('Frecuencia')\n",
    "plt.show()"
   ]
  },
  {
   "cell_type": "markdown",
   "id": "56546119-2a3c-4a30-b8c5-3c504d851fc2",
   "metadata": {},
   "source": [
    "**Tarea 5:** Filtrado en el dominio espacial"
   ]
  },
  {
   "cell_type": "code",
   "execution_count": null,
   "id": "f4a3d8b4-72ba-4d5f-9da5-f998ba72cab7",
   "metadata": {},
   "outputs": [],
   "source": [
    "def spatial_convolution(image:np.array, kernel:np.array) -> np.array:\n",
    "    \"\"\" \n",
    "    Función que calcula la convolución espacial.\n",
    "    \"\"\"\n",
    "    \n",
    "    assert image.ndim == 2\n",
    "    assert kernel.ndim == 2\n",
    "\n",
    "    # Convierte la imagen y el kernel en np.float32\n",
    "    image = image.astype(np.float32)\n",
    "    kernel = kernel.astype(np.float32)\n",
    "\n",
    "    # Obtiene las dimensiones de la imagen y el kernel\n",
    "    image_height, image_width = image.shape\n",
    "    kernel_height, kernel_width = kernel.shape\n",
    "\n",
    "    # Calcula el tamaño del borde para manejar la convolución\n",
    "    border_height = kernel_height // 2\n",
    "    border_width = kernel_width // 2\n",
    "    \n",
    "    # Crea una matriz para almacenar la imagen resultante de la convolución\n",
    "    convolved_image = np.zeros_like(image)\n",
    "\n",
    "    # Realiza la convolución espacial\n",
    "    for i in range(border_height, image_height - border_height):\n",
    "        for j in range(border_width, image_width - border_width):\n",
    "            # Extrae la región de la imagen que se está convolucionando\n",
    "            region = image[i - border_height:i + border_height + 1, j - border_width:j + border_width + 1]\n",
    "            # Realiza la operación de convolución\n",
    "            convolved_value = np.sum(region * kernel)\n",
    "            # Asigna el valor resultante a la posición correspondiente en la imagen resultante\n",
    "            convolved_image[i, j] = convolved_value\n",
    "\n",
    "    return convolved_image"
   ]
  },
  {
   "cell_type": "code",
   "execution_count": null,
   "id": "803fa8ff-a142-4122-8cae-fea9fdc76952",
   "metadata": {},
   "outputs": [],
   "source": [
    "def smooth_filter(size:int)->np.array:\n",
    "    \"\"\"\n",
    "    Esta función debe permitir definir el kernel \n",
    "    de tamaño 3 o 5 definido en las transparencias\n",
    "    para suavizar la imagen\n",
    "    \"\"\"\n",
    "    # YOUR CODE HERE\n",
    "    raise NotImplementedError()"
   ]
  },
  {
   "cell_type": "code",
   "execution_count": null,
   "id": "521e3018-96ad-4dbc-a5b7-72420db0b912",
   "metadata": {},
   "outputs": [],
   "source": [
    "def edge_filter(size)->np.array:\n",
    "    \"\"\"\n",
    "    Esta función debe permitir definir el kernel \n",
    "    de tamaño 3 o 5 definido en las transparencias \n",
    "    para resaltar bordes\n",
    "    \"\"\"\n",
    "    # YOUR CODE HERE\n",
    "    raise NotImplementedError()"
   ]
  },
  {
   "cell_type": "code",
   "execution_count": null,
   "id": "cd0da1e1-dc1c-43a9-9fbf-bf7dcc7e05ce",
   "metadata": {},
   "outputs": [],
   "source": [
    "image_smooth = spatial_convolution(r, smooth_filter(3))\n",
    "image_edges = spatial_convolution(r, edge_filter(3))\n",
    "\n",
    "plt.figure(figsize=(12, 5))\n",
    "plt.subplot(121), plt.imshow(image_smooth, cmap='gray'), plt.title('Imagen Suavizada')\n",
    "plt.colorbar()\n",
    "plt.axis('off')\n",
    "plt.subplot(122), plt.imshow(image_edges, cmap='gray'), plt.title('Imagen con Bordes Realzados')\n",
    "plt.colorbar()\n",
    "plt.axis('off')\n",
    "plt.show()"
   ]
  },
  {
   "cell_type": "code",
   "execution_count": null,
   "id": "affac374-c075-4b5f-b192-95b0ee15c8c9",
   "metadata": {},
   "outputs": [],
   "source": [
    "image_smooth = spatial_convolution(r, smooth_filter(5))\n",
    "image_edges = spatial_convolution(r, edge_filter(5))\n",
    "\n",
    "plt.figure(figsize=(12, 5))\n",
    "plt.subplot(121), plt.imshow(image_smooth, cmap='gray'), plt.title('Imagen Suavizada')\n",
    "plt.colorbar()\n",
    "plt.axis('off')\n",
    "plt.subplot(122), plt.imshow(image_edges, cmap='gray'), plt.title('Imagen con Bordes Realzados')\n",
    "plt.colorbar()\n",
    "plt.axis('off')\n",
    "plt.show()"
   ]
  },
  {
   "cell_type": "markdown",
   "id": "9ab58c84-bc81-47d0-ab60-b07cb8aad138",
   "metadata": {},
   "source": [
    "**Tarea 6:** Transformada de Fourier\n",
    "\n",
    "El módulo de la transformada de Fourier se define como:\n",
    "\n",
    "$$\n",
    "|F(u)| = \\left| \\int_{-\\infty}^{\\infty} f(x) e^{-i2\\pi ux} \\, dx \\right|\n",
    "$$"
   ]
  },
  {
   "cell_type": "code",
   "execution_count": null,
   "id": "83a8b223-3be9-4e27-8ccb-ece4e46debaa",
   "metadata": {},
   "outputs": [],
   "source": [
    "def power_spectrum(image:np.array) -> np.array:\n",
    "    \"\"\"\n",
    "    Función que cálcula el módulo de la transformada \n",
    "    de Fourier de una imagen. Se pueden utilizar las funciones \n",
    "    definidas en numpy. \n",
    "    Proceso: \n",
    "        (1) Aplicar la Transformada de Fourier. \n",
    "        (2) Desplazar el cero al centro.\n",
    "        (3) Calcular el espectro de potencia (módulo)\n",
    "    \"\"\"\n",
    "    # YOUR CODE HERE\n",
    "    raise NotImplementedError()"
   ]
  },
  {
   "cell_type": "code",
   "execution_count": null,
   "id": "8ae96c96-88d4-4dc1-9836-f2c7f8a1b743",
   "metadata": {},
   "outputs": [],
   "source": [
    "spectrum = power_spectrum(r_1)\n",
    "\n",
    "plt.figure(figsize=(12, 5))\n",
    "plt.subplot(121), plt.imshow(r_1, cmap='gray'), plt.title('Imagen')\n",
    "plt.colorbar()\n",
    "plt.axis('off')\n",
    "plt.subplot(122), plt.imshow(np.log(1 + spectrum), cmap='gray'), plt.title('Módulo')\n",
    "plt.colorbar()\n",
    "plt.axis('off')\n",
    "plt.show()"
   ]
  },
  {
   "cell_type": "markdown",
   "id": "bbbbd860-6361-4f31-9ee6-934967ced0e3",
   "metadata": {},
   "source": [
    "**Tarea 7:** Filtrado en el dominio de Fourier."
   ]
  },
  {
   "cell_type": "code",
   "execution_count": null,
   "id": "d9f18c7e-61b8-4bbd-abf5-c7d752a0d492",
   "metadata": {},
   "outputs": [],
   "source": [
    "def filter_fourier(image, kernel):\n",
    "    # Calcular la Transformada de Fourier de la imagen\n",
    "    fourier = np.fft.fft2(image)\n",
    "    fourier_shifted = np.fft.fftshift(fourier)  # Centrar el espectro\n",
    "    # Aplica el filtro en el dominio de la frecuencia\n",
    "    fourier_filtering = fourier_shifted * kernel\n",
    "    # Calcular la Transformada de Fourier inversa para obtener la imagen filtrada\n",
    "    filtered_image = np.abs(np.fft.ifft2(np.fft.ifftshift(fourier_filtering)))\n",
    "    return filtered_image"
   ]
  },
  {
   "cell_type": "code",
   "execution_count": null,
   "id": "40828f10-6c0c-4998-a3c2-9f6d7acb3578",
   "metadata": {},
   "outputs": [],
   "source": [
    "def low_pass_filter(image, kernel_size):\n",
    "    \"\"\" Función que define un filtro paso bajo. \n",
    "        El diseño del filtro consiste en crear una matrix\n",
    "        con un circulo blanco en el centro, el radio del \n",
    "        círculo es determinado por kernel_size \n",
    "        mientras que el fondo es negro.\n",
    "        El rango de los valores del filtro debe ser \n",
    "        entre 0 y 255. Se pueden usar funciones de cv2.\n",
    "    \"\"\"\n",
    "    # YOUR CODE HERE\n",
    "    raise NotImplementedError()"
   ]
  },
  {
   "cell_type": "code",
   "execution_count": null,
   "id": "92e830b0-a340-4b08-a877-6401adcf0d50",
   "metadata": {},
   "outputs": [],
   "source": [
    "kernel_10 = low_pass_filter(r_1, kernel_size=10)\n",
    "filtered_image_10 = filter_fourier(r_1, kernel_10)\n",
    "\n",
    "plt.figure(figsize=(12, 6))\n",
    "plt.subplot(131), plt.imshow(r_1, cmap='gray'), plt.title('Imagen Original')\n",
    "plt.axis('off')\n",
    "plt.subplot(132), plt.imshow(kernel_10, cmap='gray'), plt.title('Filtro en el Dominio de la Frecuencia')\n",
    "plt.axis('off')\n",
    "plt.subplot(133), plt.imshow(filtered_image_10, cmap='gray'), plt.title('Imagen Filtrada')\n",
    "plt.axis('off')\n",
    "plt.show()\n",
    "\n",
    "kernel_20 = low_pass_filter(r_1, kernel_size=20)\n",
    "filtered_image_20 = filter_fourier(r_1, kernel_20)\n",
    "\n",
    "plt.figure(figsize=(12, 6))\n",
    "plt.subplot(131), plt.imshow(r_1, cmap='gray'), plt.title('Imagen Original')\n",
    "plt.axis('off')\n",
    "plt.subplot(132), plt.imshow(kernel_20, cmap='gray'), plt.title('Filtro en el Dominio de la Frecuencia')\n",
    "plt.axis('off')\n",
    "plt.subplot(133), plt.imshow(filtered_image_20, cmap='gray'), plt.title('Imagen Filtrada')\n",
    "plt.axis('off')\n",
    "plt.show()\n",
    "\n",
    "kernel_30 = low_pass_filter(r_1, kernel_size=30)\n",
    "filtered_image_30 = filter_fourier(r_1, kernel_30)\n",
    "\n",
    "plt.figure(figsize=(12, 6))\n",
    "plt.subplot(131), plt.imshow(r_1, cmap='gray'), plt.title('Imagen Original')\n",
    "plt.axis('off')\n",
    "plt.subplot(132), plt.imshow(kernel_30, cmap='gray'), plt.title('Filtro en el Dominio de la Frecuencia')\n",
    "plt.axis('off')\n",
    "plt.subplot(133), plt.imshow(filtered_image_30, cmap='gray'), plt.title('Imagen Filtrada')\n",
    "plt.axis('off')\n",
    "plt.show()"
   ]
  },
  {
   "cell_type": "code",
   "execution_count": null,
   "id": "f0eb938f-3ee4-41e3-af67-f83a9778f7ea",
   "metadata": {},
   "outputs": [],
   "source": [
    "def high_pass_filter(image, kernel_size):\n",
    "    \"\"\" Función que define un filtro paso bajo. \n",
    "        El diseño del filtro consiste en crear una matrix\n",
    "        con un circulo negro en el centro, el radio del \n",
    "        círculo es determinado por kernel_size. \n",
    "        El fondo es blanco.\n",
    "        El rango de los valores del filtro debe ser \n",
    "        entre 0 y 255. Se pueden usar funciones de cv2.\n",
    "    \"\"\"\n",
    "    # YOUR CODE HERE\n",
    "    raise NotImplementedError()"
   ]
  },
  {
   "cell_type": "code",
   "execution_count": null,
   "id": "e50fff0c-5704-4c1d-941c-5ca87987b0ea",
   "metadata": {},
   "outputs": [],
   "source": [
    "kernel_10 = high_pass_filter(r_1, kernel_size=10)\n",
    "filtered_image_10 = filter_fourier(r_1, kernel_10)\n",
    "\n",
    "plt.figure(figsize=(12, 6))\n",
    "plt.subplot(131), plt.imshow(r_1, cmap='gray'), plt.title('Imagen Original')\n",
    "plt.axis('off')\n",
    "plt.subplot(132), plt.imshow(kernel_10, cmap='gray'), plt.title('Filtro en el Dominio de la Frecuencia')\n",
    "plt.axis('off')\n",
    "plt.subplot(133), plt.imshow(filtered_image_10, cmap='gray'), plt.title('Imagen Filtrada')\n",
    "plt.axis('off')\n",
    "plt.show()\n",
    "\n",
    "kernel_20 = high_pass_filter(r_1, kernel_size=20)\n",
    "filtered_image_20 = filter_fourier(r_1, kernel_20)\n",
    "\n",
    "plt.figure(figsize=(12, 6))\n",
    "plt.subplot(131), plt.imshow(r_1, cmap='gray'), plt.title('Imagen Original')\n",
    "plt.axis('off')\n",
    "plt.subplot(132), plt.imshow(kernel_20, cmap='gray'), plt.title('Filtro en el Dominio de la Frecuencia')\n",
    "plt.axis('off')\n",
    "plt.subplot(133), plt.imshow(filtered_image_20, cmap='gray'), plt.title('Imagen Filtrada')\n",
    "plt.axis('off')\n",
    "plt.show()\n",
    "\n",
    "kernel_30 = high_pass_filter(r_1, kernel_size=30)\n",
    "filtered_image_30 = filter_fourier(r_1, kernel_30)\n",
    "\n",
    "plt.figure(figsize=(12, 6))\n",
    "plt.subplot(131), plt.imshow(r_1, cmap='gray'), plt.title('Imagen Original')\n",
    "plt.axis('off')\n",
    "plt.subplot(132), plt.imshow(kernel_30, cmap='gray'), plt.title('Filtro en el Dominio de la Frecuencia')\n",
    "plt.axis('off')\n",
    "plt.subplot(133), plt.imshow(filtered_image_30, cmap='gray'), plt.title('Imagen Filtrada')\n",
    "plt.axis('off')\n",
    "plt.show()"
   ]
  },
  {
   "cell_type": "code",
   "execution_count": null,
   "id": "f735c47c-af4c-4ec7-825f-a21180ec3a31",
   "metadata": {},
   "outputs": [],
   "source": []
  }
 ],
 "metadata": {
  "kernelspec": {
   "display_name": "Python 3 (ipykernel)",
   "language": "python",
   "name": "python3"
  },
  "language_info": {
   "codemirror_mode": {
    "name": "ipython",
    "version": 3
   },
   "file_extension": ".py",
   "mimetype": "text/x-python",
   "name": "python",
   "nbconvert_exporter": "python",
   "pygments_lexer": "ipython3",
   "version": "3.10.12"
  }
 },
 "nbformat": 4,
 "nbformat_minor": 5
}
